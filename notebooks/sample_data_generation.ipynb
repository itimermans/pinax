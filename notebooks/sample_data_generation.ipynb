{
 "cells": [
  {
   "cell_type": "code",
   "execution_count": 18,
   "id": "debf29d2",
   "metadata": {},
   "outputs": [],
   "source": [
    "import pinax\n",
    "from nptdms import TdmsFile, TdmsWriter, ChannelObject, GroupObject, RootObject\n",
    "import matplotlib.pyplot as plt\n",
    "import pandas as pd"
   ]
  },
  {
   "cell_type": "code",
   "execution_count": 19,
   "id": "66ab0cd6",
   "metadata": {},
   "outputs": [],
   "source": [
    "## Root folder locator\n",
    "import subprocess\n",
    "from pathlib import Path\n",
    "def get_repo_root(start: Path | None = None) -> str:\n",
    "\n",
    "    start = start or Path.cwd()\n",
    "\n",
    "    # --- Option 1: Try Git ---\n",
    "    try:\n",
    "        root = subprocess.check_output(\n",
    "            [\"git\", \"rev-parse\", \"--show-toplevel\"],\n",
    "            text=True,\n",
    "            stderr=subprocess.DEVNULL,\n",
    "        ).strip()\n",
    "        return str(Path(root))\n",
    "    except (subprocess.CalledProcessError, FileNotFoundError):\n",
    "        pass  # git failed or not installed\n",
    "\n",
    "    # --- Option 2: Walk up until `.git` is found ---\n",
    "    for parent in [start] + list(start.parents):\n",
    "        if (parent / \".git\").exists():\n",
    "            return str(parent)\n",
    "\n",
    "    raise RuntimeError(\"Could not find repository root.\")"
   ]
  },
  {
   "cell_type": "code",
   "execution_count": null,
   "id": "77fb1a98",
   "metadata": {},
   "outputs": [],
   "source": [
    "## TDMS Sample generation from a random file\n",
    "\n",
    "# Source tdms file path. Modify accordingly\n",
    "path = r\"Z:\\All Data\\Cell 6 4WD\\62509002 2025 Jeep Grand Cherokee 4Xe stairs_up_down_80mph_60sec_ramp_3_bag x3 w_0_3_6pct grade_2990\\62509002 Test Data.tdms\"\n",
    "\n",
    "tdms_file = TdmsFile.read(path)\n",
    "reduced_file_name = \"69909009 Test Data\"\n",
    "reduced_file_path = get_repo_root()+\"\\\\examples\\\\\"+reduced_file_name\n",
    "channel_ranges = {\n",
    "    \"Data\" : [200,500]\n",
    "}\n",
    "\n",
    "# Create a reduced copy with only the first 100 elements of each channel\n",
    "with TdmsWriter(reduced_file_path+\".tdms\") as writer:\n",
    "    root_object = RootObject(tdms_file.properties)\n",
    "    all_objects = [root_object]\n",
    "    for group in tdms_file.groups():\n",
    "        group_obj = GroupObject(group.name, properties=group.properties)\n",
    "        all_objects.append(group_obj)\n",
    "        for channel in group.channels():\n",
    "            shortened_data = channel[channel_ranges.get(group.name, [0, 100])[0]:channel_ranges.get(group.name, [0, 100])[1]]  # Slice to specified size or default to 100\n",
    "            if len(shortened_data) > 0:  # Only write if there's data\n",
    "                all_objects.append(ChannelObject(group.name, channel.name, shortened_data, properties=channel.properties))\n",
    "    writer.write_segment(all_objects)\n",
    "\n",
    "# Read back \n",
    "reduced_tdms = TdmsFile.read(reduced_file_path+\".tdms\")\n",
    "# Save as csv (\"Data\" group only)\n",
    "data_group = reduced_tdms[\"Data\"]\n",
    "data_group.as_dataframe().to_csv(reduced_file_path+\".csv\", index=False)"
   ]
  },
  {
   "cell_type": "code",
   "execution_count": 21,
   "id": "49ba60a5",
   "metadata": {},
   "outputs": [
    {
     "name": "stdout",
     "output_type": "stream",
     "text": [
      "RawFacilities (31023, 22) Properties size: 6\n",
      "Data (30301, 535) Properties size: 21\n",
      "RawVehicle (31045, 11) Properties size: 4\n",
      "RawHost (9, 5) Properties size: 48\n",
      "TestInfo (9, 5) Properties size: 73\n",
      "RawCAN (31043, 72) Properties size: 1\n",
      "RawPierburgModal (60795, 12) Properties size: 13\n",
      "PhaseData (0, 3) Properties size: 0\n",
      "Vspy (90045, 408) Properties size: 1\n",
      "_________________________________\n",
      "RawFacilities (100, 22) Properties size: 6\n",
      "Data (1000, 535) Properties size: 21\n",
      "RawVehicle (100, 11) Properties size: 4\n",
      "RawHost (9, 5) Properties size: 48\n",
      "TestInfo (9, 5) Properties size: 73\n",
      "RawCAN (100, 72) Properties size: 1\n",
      "RawPierburgModal (100, 12) Properties size: 13\n",
      "PhaseData (0, 0) Properties size: 0\n",
      "Vspy (100, 408) Properties size: 1\n",
      "Vspy (90045, 408) Properties size: 1\n",
      "_________________________________\n",
      "RawFacilities (100, 22) Properties size: 6\n",
      "Data (1000, 535) Properties size: 21\n",
      "RawVehicle (100, 11) Properties size: 4\n",
      "RawHost (9, 5) Properties size: 48\n",
      "TestInfo (9, 5) Properties size: 73\n",
      "RawCAN (100, 72) Properties size: 1\n",
      "RawPierburgModal (100, 12) Properties size: 13\n",
      "PhaseData (0, 0) Properties size: 0\n",
      "Vspy (100, 408) Properties size: 1\n"
     ]
    }
   ],
   "source": [
    "# Comparisons\n",
    "\n",
    "for group in tdms_file.groups():\n",
    "    print(group.name, group.as_dataframe().shape, \"Properties size:\", len(group.properties))\n",
    "print(\"_________________________________\")\n",
    "for group in reduced_tdms.groups():\n",
    "    print(group.name, group.as_dataframe().shape, \"Properties size:\", len(group.properties))\n",
    "\n",
    "    "
   ]
  }
 ],
 "metadata": {
  "kernelspec": {
   "display_name": ".venv (3.13.7)",
   "language": "python",
   "name": "python3"
  },
  "language_info": {
   "codemirror_mode": {
    "name": "ipython",
    "version": 3
   },
   "file_extension": ".py",
   "mimetype": "text/x-python",
   "name": "python",
   "nbconvert_exporter": "python",
   "pygments_lexer": "ipython3",
   "version": "3.13.7"
  }
 },
 "nbformat": 4,
 "nbformat_minor": 5
}
