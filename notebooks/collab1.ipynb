{
 "cells": [
  {
   "cell_type": "code",
   "execution_count": null,
   "id": "b9f1b341",
   "metadata": {
    "vscode": {
     "languageId": "plaintext"
    }
   },
   "outputs": [],
   "source": [
    "!pip install --quiet git+https://github.com/yourusername/sandor.git"
   ]
  }
 ],
 "metadata": {
  "language_info": {
   "name": "python"
  }
 },
 "nbformat": 4,
 "nbformat_minor": 5
}
